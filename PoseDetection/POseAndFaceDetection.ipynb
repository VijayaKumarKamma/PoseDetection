{
 "cells": [
  {
   "cell_type": "code",
   "execution_count": 2,
   "metadata": {},
   "outputs": [],
   "source": [
    "import os\n",
    "import cv2\n",
    "import numpy as np\n",
    "import time\n",
    "import matplotlib.pyplot as plt\n",
    "%matplotlib inline"
   ]
  },
  {
   "cell_type": "code",
   "execution_count": 6,
   "metadata": {},
   "outputs": [
    {
     "name": "stdout",
     "output_type": "stream",
     "text": [
      "Model_loaded\n"
     ]
    }
   ],
   "source": [
    "prototxt_path = os.path.join('model_data/deploy.prototxt')\n",
    "caffemodel_path = os.path.join('model_data/weights.caffemodel')\n",
    "\n",
    "# Read the model\n",
    "model = cv2.dnn.readNetFromCaffe(prototxt_path, caffemodel_path)\n",
    "print(\"Model_loaded\")"
   ]
  },
  {
   "cell_type": "code",
   "execution_count": 8,
   "metadata": {},
   "outputs": [
    {
     "name": "stdout",
     "output_type": "stream",
     "text": [
      "Loaded model from disk\n"
     ]
    }
   ],
   "source": [
    "# load json and create model\n",
    "#load the model \n",
    "from keras.models import model_from_json\n",
    "json_file = open('FaceVerification.json', 'r')\n",
    "loaded_model_json = json_file.read()\n",
    "json_file.close()\n",
    "loaded_model = model_from_json(loaded_model_json)\n",
    "# load weights into new model\n",
    "loaded_model.load_weights(\"FaceVerification.h5\")\n",
    "print(\"Loaded model from disk\")"
   ]
  },
  {
   "cell_type": "code",
   "execution_count": 9,
   "metadata": {},
   "outputs": [],
   "source": [
    "# Compiling and Making New Predictions\n",
    "\n",
    "# compile loaded model on test data\n",
    "loaded_model.compile(loss='binary_crossentropy', optimizer='adam', metrics=['accuracy'])"
   ]
  },
  {
   "cell_type": "code",
   "execution_count": 10,
   "metadata": {},
   "outputs": [],
   "source": [
    "MODE = \"MPI\"\n",
    "if MODE is \"COCO\":\n",
    "    prototxt_path = os.path.join('models/pose_deploy_linevec.prototxt')\n",
    "    caffemodel_path = os.path.join('models/pose_iter_440000.caffemodel')\n",
    "    nPoints = 18\n",
    "    POSE_PAIRS = [ [1,0],[1,2],[1,5],[2,3],[3,4],[5,6],[6,7],[1,8],[8,9],[9,10],[1,11],[11,12],[12,13],[0,14],[0,15],[14,16],[15,17]]\n",
    "\n",
    "\n",
    "elif MODE is \"MPI\" :\n",
    "    prototxt_path = os.path.join('models/pose_deploy_linevec_faster_4_stages.prototxt')\n",
    "    caffemodel_path = os.path.join('models/pose_iter_160000.caffemodel')\n",
    "    nPoints = 15\n",
    "    POSE_PAIRS = [[0,1], [1,2], [2,3], [3,4], [1,5], [5,6], [6,7], [1,14], [14,8], [8,9], [9,10], [14,11], [11,12], [12,13] ]\n",
    "# Read the network into Memory\n",
    "net = cv2.dnn.readNetFromCaffe(prototxt_path, caffemodel_path)"
   ]
  },
  {
   "cell_type": "code",
   "execution_count": null,
   "metadata": {},
   "outputs": [],
   "source": [
    "cap = cv2.VideoCapture(0)\n",
    "cap.set(5, 30)\n",
    "frameRate = cap.get(5)\n",
    "print(frameRate)\n",
    "count=0\n",
    "while True:\n",
    "    count+=1\n",
    "    frameId=count\n",
    "    ret, frame = cap.read()\n",
    "    frame = imutils.resize(frame, width=1000)\n",
    "    (h, w) = frame.shape[:2]\n",
    "    gray = cv2.cvtColor(frame, cv2.COLOR_BGR2GRAY)\n",
    "    \n",
    "    # construct a blob from the image\n",
    "    #imageBlob = cv2.dnn.blobFromImage(\n",
    "        #cv2.resize(frame, (300, 300)), 1.0, (300, 300),(104.0, 177.0, 123.0), swapRB=False, crop=False)\n",
    "    \n",
    "    imageBlob = cv2.dnn.blobFromImage(frame, 1.0, (300, 300), [104, 117, 123], False, False)\n",
    "\n",
    "    # apply OpenCV's deep learning-based face detector to localize\n",
    "    # faces in the input image\n",
    "    model.setInput(imageBlob)\n",
    "    detections = model.forward()\n",
    "    # loop over the detections\n",
    "    for i in range(0, detections.shape[2]):\n",
    "    # extract the confidence (i.e., probability) associated with\n",
    "    # the prediction\n",
    "        confidence = detections[0, 0, i, 2]\n",
    "        frameHeight= frame.shape[2]\n",
    "        # filter out weak detections\n",
    "        if confidence > 0.5:\n",
    "        # compute the (x, y)-coordinates of the bounding box for\n",
    "        # the face\n",
    "            box = detections[0, 0, i, 3:7] * np.array([w, h, w, h])\n",
    "            (startX, startY, endX, endY) = box.astype(\"int\")\n",
    "\n",
    "            # extract the face ROI\n",
    "            face = frame[startY:endY, startX:endX]\n",
    "            (fH, fW) = face.shape[:2]\n",
    "            cv2.rectangle(frame, (startX, startY), (endX, endY), (0, 255, 0), int(round(frameHeight/150)), 8)\n",
    "            #Calling the model\n",
    "            filename =\"vijay.jpg\"\n",
    "            crop_img = frame[startY:endY, startX:endX]\n",
    "            cv2.imwrite(filename, crop_img) \n",
    "            test_image = image.load_img(\"vijay.jpg\", target_size = (64, 64))\n",
    "            test_image = image.img_to_array(test_image)\n",
    "            test_image = np.expand_dims(test_image, axis = 0)\n",
    "            result = loaded_model.predict(test_image)  \n",
    "            #training_set.class_indices\n",
    "            if result[0][0] == 1:\n",
    "                prediction = 'Found Vijay'\n",
    "            elif result[0][0] == 0 :\n",
    "                prediction = 'NotVijay--Someone'\n",
    "            print(prediction)\n",
    "            cv2.putText(frame, prediction, (startX, startY), cv2.FONT_HERSHEY_SIMPLEX, 0.5, (0, 0, 255), 2)\n",
    "            \n",
    "            # ensure the face width and height are sufficiently large\n",
    "            if fW < 20 or fH < 20:\n",
    "                continue\n",
    "        cv2.imshow(\"Frame\", frame)\n",
    "    k= cv2.waitKey(5) & 0xff\n",
    "    if k==27:\n",
    "        break\n",
    "print(\"vijay\")\n",
    "cv2.destroyAllWindows()\n",
    "cap.release()"
   ]
  }
 ],
 "metadata": {
  "kernelspec": {
   "display_name": "Python 3",
   "language": "python",
   "name": "python3"
  },
  "language_info": {
   "codemirror_mode": {
    "name": "ipython",
    "version": 3
   },
   "file_extension": ".py",
   "mimetype": "text/x-python",
   "name": "python",
   "nbconvert_exporter": "python",
   "pygments_lexer": "ipython3",
   "version": "3.6.7"
  }
 },
 "nbformat": 4,
 "nbformat_minor": 2
}
